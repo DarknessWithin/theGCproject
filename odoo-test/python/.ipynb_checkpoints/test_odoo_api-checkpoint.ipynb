{
 "cells": [
  {
   "cell_type": "code",
   "execution_count": 1,
   "id": "6d80a1e8",
   "metadata": {},
   "outputs": [
    {
     "name": "stdout",
     "output_type": "stream",
     "text": [
      "[{'id': 2, 'name': 'S00002', 'amount_total': 151.0, 'partner_id': [8, 'RAMA']}]\n"
     ]
    }
   ],
   "source": [
    "import xmlrpc.client\n",
    "\n",
    "url = \"http://localhost:8069\"\n",
    "db = \"odoo_db_1\"\n",
    "username = \"akshatgupta2790@gmail.com\"\n",
    "password = \"abcdef\"\n",
    "\n",
    "# Authenticate\n",
    "common = xmlrpc.client.ServerProxy(f\"{url}/xmlrpc/2/common\")\n",
    "uid = common.authenticate(db, username, password, {})\n",
    "\n",
    "# Access object methods\n",
    "models = xmlrpc.client.ServerProxy(f\"{url}/xmlrpc/2/object\")\n",
    "\n",
    "# Read a quotation (sale.order with id 2)\n",
    "record = models.execute_kw(db, uid, password,\n",
    "    'sale.order', 'read',\n",
    "    [[2]],  # record id\n",
    "    {'fields': ['name', 'amount_total', 'partner_id']}\n",
    ")\n",
    "\n",
    "print(record)\n"
   ]
  },
  {
   "cell_type": "code",
   "execution_count": null,
   "id": "b5270c19",
   "metadata": {},
   "outputs": [],
   "source": []
  }
 ],
 "metadata": {
  "kernelspec": {
   "display_name": "base",
   "language": "python",
   "name": "python3"
  },
  "language_info": {
   "codemirror_mode": {
    "name": "ipython",
    "version": 3
   },
   "file_extension": ".py",
   "mimetype": "text/x-python",
   "name": "python",
   "nbconvert_exporter": "python",
   "pygments_lexer": "ipython3",
   "version": "3.12.3"
  }
 },
 "nbformat": 4,
 "nbformat_minor": 5
}
